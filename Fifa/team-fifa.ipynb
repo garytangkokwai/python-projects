{
 "cells": [
  {
   "cell_type": "markdown",
   "metadata": {},
   "source": [
    "# Team FIFA\n",
    "\n",
    "---\n",
    "You are working for an advertising analytics consulting company.  Your client, a name brand television network, needs to re-formulate their pricing structure for advertisement slots during soccer matches for new customers.  They also want this new structure to incentivize existing customers to create new partnerships/sponsors with teams and players.  \n",
    "\n",
    "**Goals:**\n",
    "- Determine a reasonable metric to decide how exciting a game is.\n",
    "    - Engineer this feature using existing data.\n",
    "- Suggest a pricing structure tied to the overall value associated with \"game excitement\".\n",
    "\n",
    "**Presentation requirements:**\n",
    "- At least 50% of presentation must address a non-technical audience.\n",
    "- Someone who hasn't presented in class yet must take lead on presentation."
   ]
  },
  {
   "cell_type": "code",
   "execution_count": 1,
   "metadata": {
    "collapsed": true
   },
   "outputs": [],
   "source": [
    "import pandas as pd\n",
    "import numpy as np\n",
    "import seaborn as sns\n",
    "\n",
    "%matplotlib inline\n",
    "\n",
    "df = pd.read_csv(\"./datasets/fifa_goals.csv\")"
   ]
  },
  {
   "cell_type": "markdown",
   "metadata": {},
   "source": [
    "### Matrix\n",
    "---\n",
    "**Analyzing game excitment by a scoring system with the following criteria:**\n",
    "\n",
    "<html>\n",
    "<head>\n",
    "<style>\n",
    "table, th, td {\n",
    "    border: 1px solid black;\n",
    "    border-collapse: collapse;\n",
    "}\n",
    "th, td {\n",
    "    padding: 5px;\n",
    "}\n",
    "th {\n",
    "    text-align: right;\n",
    "}\n",
    "</style>\n",
    "</head>\n",
    "<body>\n",
    "\n",
    "<table style=\"width:50%\">\n",
    "  <tr>\n",
    "    <th>Criteria</th>\n",
    "    <th>Weightage</th> \n",
    "  </tr>\n",
    "  <tr>\n",
    "    <td>- Total number of goals</td>\n",
    "  </tr>\n",
    "  <tr>        \n",
    "    <td>- Goals within 80 - 94 mins</td>\n",
    "  </tr>\n",
    "  <tr>\n",
    "    <td>- Goals after 95 mins</td>\n",
    "  </tr>\n",
    "  <tr>\n",
    "    <td>- Break tie (goal difference of 1 or 0)</td>\n",
    "  </tr>   "
   ]
  },
  {
   "cell_type": "code",
   "execution_count": null,
   "metadata": {
    "collapsed": true
   },
   "outputs": [],
   "source": []
  }
 ],
 "metadata": {
  "kernelspec": {
   "display_name": "Python 2",
   "language": "python",
   "name": "python2"
  },
  "language_info": {
   "codemirror_mode": {
    "name": "ipython",
    "version": 2
   },
   "file_extension": ".py",
   "mimetype": "text/x-python",
   "name": "python",
   "nbconvert_exporter": "python",
   "pygments_lexer": "ipython2",
   "version": "2.7.13"
  }
 },
 "nbformat": 4,
 "nbformat_minor": 2
}
